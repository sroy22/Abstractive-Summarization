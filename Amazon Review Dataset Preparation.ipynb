{
 "cells": [
  {
   "cell_type": "markdown",
   "id": "c114aefa",
   "metadata": {},
   "source": [
    "# Dataset Preparation"
   ]
  },
  {
   "cell_type": "code",
   "execution_count": 1,
   "id": "46a6463a",
   "metadata": {},
   "outputs": [],
   "source": [
    "import pandas as pd\n",
    "import json\n",
    "\n",
    "dataset=pd.DataFrame()\n",
    "# removed Books, removed Clothing_Shoes_and_Jewelry due size constraints\n",
    "review_list=['AMAZON_FASHION','All_beauty','Appliances','Arts_Crafts_and_Sewing','Gift_Cards','Digital_Music',\n",
    "             'Industrial_and_Scientific','Automotive','CDs_and_Vinyl','Cell_Phones_and_Accessories',\n",
    "             'Electronics','Grocery_and_Gourmet_Food','Home_and_Kitchen','Kindle_Store',\n",
    "             'Luxury_Beauty','Magazine_Subscriptions','Movies_and_TV','Office_Products','Patio_Lawn_and_Garden',\n",
    "             'Pet_Supplies','Prime_Pantry','Software','Sports_and_Outdoors','Tools_and_Home_Improvement',\n",
    "             'Toys_and_Games','Video_Games'\n",
    "             ]\n"
   ]
  },
  {
   "cell_type": "markdown",
   "id": "b82a1233",
   "metadata": {},
   "source": [
    "\n",
    "\n",
    "#### Extracting reviews from raw files for different amazon products which have reviews of length 3000 characters or more and summaries of length 200 characters or more\n",
    "\n",
    "Raw file source: https://jmcauley.ucsd.edu/data/amazon/"
   ]
  },
  {
   "cell_type": "code",
   "execution_count": 2,
   "id": "0308c3c1",
   "metadata": {},
   "outputs": [
    {
     "name": "stdout",
     "output_type": "stream",
     "text": [
      "AMAZON_FASHION 0\n",
      "All_beauty 0\n",
      "Appliances 0\n",
      "Arts_Crafts_and_Sewing 23\n",
      "Gift_Cards 23\n",
      "Digital_Music 42\n",
      "Industrial_and_Scientific 72\n",
      "Automotive 196\n",
      "CDs_and_Vinyl 1366\n",
      "Cell_Phones_and_Accessories 1676\n",
      "Electronics 4475\n",
      "Grocery_and_Gourmet_Food 4617\n",
      "Home_and_Kitchen 5455\n",
      "Kindle_Store 6850\n",
      "Luxury_Beauty 6870\n",
      "Magazine_Subscriptions 6870\n",
      "Movies_and_TV 9703\n",
      "Office_Products 9887\n",
      "Patio_Lawn_and_Garden 10032\n",
      "Pet_Supplies 10250\n",
      "Prime_Pantry 10252\n",
      "Software 10289\n",
      "Sports_and_Outdoors 10764\n",
      "Tools_and_Home_Improvement 11237\n",
      "Toys_and_Games 11468\n",
      "Video_Games 11848\n"
     ]
    }
   ],
   "source": [
    "for i in review_list:\n",
    "    file = 'data/'+i+'.json'\n",
    "    df = pd.read_json(file,lines=True)\n",
    "    df = df[['reviewText','summary']].drop_duplicates()\n",
    "    df['rev_len'] = df['reviewText'].apply(lambda x: len(str(x)))\n",
    "    df['sum_len'] = df['summary'].apply(lambda x: len(str(x)))\n",
    "    df = df[(df.rev_len > 2999) & (df.sum_len > 99) ]\n",
    "    dataset = dataset.append(df).reset_index(drop=True)\n",
    "    print(i,len(dataset))"
   ]
  },
  {
   "cell_type": "code",
   "execution_count": 3,
   "id": "76292daf",
   "metadata": {},
   "outputs": [],
   "source": [
    "#Save extracted data from raw files - 11848 reviews \n",
    "dataset.to_csv('data/amazon_review_dataset99.csv') "
   ]
  },
  {
   "cell_type": "markdown",
   "id": "ad59679b",
   "metadata": {},
   "source": [
    "## Data Pre-Processing"
   ]
  },
  {
   "cell_type": "code",
   "execution_count": 51,
   "id": "bc3a0e67",
   "metadata": {},
   "outputs": [
    {
     "data": {
      "text/html": [
       "<div>\n",
       "<style scoped>\n",
       "    .dataframe tbody tr th:only-of-type {\n",
       "        vertical-align: middle;\n",
       "    }\n",
       "\n",
       "    .dataframe tbody tr th {\n",
       "        vertical-align: top;\n",
       "    }\n",
       "\n",
       "    .dataframe thead th {\n",
       "        text-align: right;\n",
       "    }\n",
       "</style>\n",
       "<table border=\"1\" class=\"dataframe\">\n",
       "  <thead>\n",
       "    <tr style=\"text-align: right;\">\n",
       "      <th></th>\n",
       "      <th>Unnamed: 0</th>\n",
       "      <th>reviewText</th>\n",
       "      <th>summary</th>\n",
       "      <th>rev_len</th>\n",
       "      <th>sum_len</th>\n",
       "    </tr>\n",
       "  </thead>\n",
       "  <tbody>\n",
       "    <tr>\n",
       "      <th>0</th>\n",
       "      <td>0</td>\n",
       "      <td>I'm using a KNK Zing cutting machine. Like mos...</td>\n",
       "      <td>ELCTRONIC CUTTER WARNING: This chipbord is 0.0...</td>\n",
       "      <td>3644</td>\n",
       "      <td>100</td>\n",
       "    </tr>\n",
       "    <tr>\n",
       "      <th>1</th>\n",
       "      <td>1</td>\n",
       "      <td>Right now this is $11.88 on Amazon Prime - wha...</td>\n",
       "      <td>Great price for a superior product - Use for P...</td>\n",
       "      <td>8467</td>\n",
       "      <td>118</td>\n",
       "    </tr>\n",
       "    <tr>\n",
       "      <th>2</th>\n",
       "      <td>2</td>\n",
       "      <td>I do a lot of art, ranging from sculpture thro...</td>\n",
       "      <td>Deluxe Kit with Tank Compressor Offers a Lot o...</td>\n",
       "      <td>9948</td>\n",
       "      <td>114</td>\n",
       "    </tr>\n",
       "    <tr>\n",
       "      <th>3</th>\n",
       "      <td>3</td>\n",
       "      <td>AMENDMENT 08/22/2013\\nI have painted with it a...</td>\n",
       "      <td>Love Da Vinci Cosmotop Mix B for watercolour m...</td>\n",
       "      <td>3244</td>\n",
       "      <td>108</td>\n",
       "    </tr>\n",
       "    <tr>\n",
       "      <th>4</th>\n",
       "      <td>4</td>\n",
       "      <td>- I got this for a very specific reason, which...</td>\n",
       "      <td>It is, and works, exactly as described:  a sup...</td>\n",
       "      <td>3562</td>\n",
       "      <td>109</td>\n",
       "    </tr>\n",
       "  </tbody>\n",
       "</table>\n",
       "</div>"
      ],
      "text/plain": [
       "   Unnamed: 0                                         reviewText  \\\n",
       "0           0  I'm using a KNK Zing cutting machine. Like mos...   \n",
       "1           1  Right now this is $11.88 on Amazon Prime - wha...   \n",
       "2           2  I do a lot of art, ranging from sculpture thro...   \n",
       "3           3  AMENDMENT 08/22/2013\\nI have painted with it a...   \n",
       "4           4  - I got this for a very specific reason, which...   \n",
       "\n",
       "                                             summary  rev_len  sum_len  \n",
       "0  ELCTRONIC CUTTER WARNING: This chipbord is 0.0...     3644      100  \n",
       "1  Great price for a superior product - Use for P...     8467      118  \n",
       "2  Deluxe Kit with Tank Compressor Offers a Lot o...     9948      114  \n",
       "3  Love Da Vinci Cosmotop Mix B for watercolour m...     3244      108  \n",
       "4  It is, and works, exactly as described:  a sup...     3562      109  "
      ]
     },
     "execution_count": 51,
     "metadata": {},
     "output_type": "execute_result"
    }
   ],
   "source": [
    "import pandas as pd\n",
    "import json\n",
    "df= pd.read_csv('data/amazon_review_dataset99.csv')\n",
    "df.head()"
   ]
  },
  {
   "cell_type": "code",
   "execution_count": 23,
   "id": "4162c4d7",
   "metadata": {},
   "outputs": [],
   "source": [
    "#Ref: https://github.com/aravindpai/How-to-build-own-text-summarizer-using-deep-learning/blob/master/How_to_build_own_text_summarizer_using_deep_learning.ipynb\n",
    "#Ref: https://towardsdatascience.com/text-summarization-using-deep-neural-networks-e7ee7521d804\n",
    "'''\n",
    "Pre-processing + Lemmitization\n",
    "'''\n",
    "import nltk \n",
    "import string\n",
    "from nltk.tokenize import word_tokenize as nlkt_word_tokenize\n",
    "from nltk.corpus import stopwords\n",
    "from bs4 import BeautifulSoup\n",
    "\n",
    "#Lemmitization:\n",
    "from nltk.stem import WordNetLemmatizer\n",
    "# Init the Wordnet Lemmatizer\n",
    "lemmatizer = nltk.stem.WordNetLemmatizer()\n",
    "w_tokenizer = nltk.tokenize.WhitespaceTokenizer()\n",
    "\n",
    "stop_words = set(stopwords.words('english')) \n",
    "\n",
    "contraction_mapping = {\"ain't\": \"is not\", \"aren't\": \"are not\",\"can't\": \"cannot\", \"'cause\": \"because\", \"could've\": \"could have\", \"couldn't\": \"could not\",\n",
    "                           \"didn't\": \"did not\",  \"doesn't\": \"does not\", \"don't\": \"do not\", \"hadn't\": \"had not\", \"hasn't\": \"has not\", \"haven't\": \"have not\",\n",
    "                           \"he'd\": \"he would\",\"he'll\": \"he will\", \"he's\": \"he is\", \"how'd\": \"how did\", \"how'd'y\": \"how do you\", \"how'll\": \"how will\", \"how's\": \"how is\",\n",
    "                           \"i'd\": \"i would\", \"i'd've\": \"i would have\", \"i'll\": \"i will\", \"i'll've\": \"i will have\",\"i'm\": \"i am\", \"i've\": \"i have\", \"i'd\": \"i would\",\n",
    "                           \"i'd've\": \"i would have\", \"i'll\": \"i will\",  \"i'll've\": \"i will have\",\"i'm\": \"i am\", \"i've\": \"i have\", \"isn't\": \"is not\", \"it'd\": \"it would\",\n",
    "                           \"it'd've\": \"it would have\", \"it'll\": \"it will\", \"it'll've\": \"it will have\",\"it's\": \"it is\", \"let's\": \"let us\", \"ma'am\": \"madam\",\n",
    "                           \"mayn't\": \"may not\", \"might've\": \"might have\",\"mightn't\": \"might not\",\"mightn't've\": \"might not have\", \"must've\": \"must have\",\n",
    "                           \"mustn't\": \"must not\", \"mustn't've\": \"must not have\", \"needn't\": \"need not\", \"needn't've\": \"need not have\",\"o'clock\": \"of the clock\",\n",
    "                           \"oughtn't\": \"ought not\", \"oughtn't've\": \"ought not have\", \"shan't\": \"shall not\", \"sha'n't\": \"shall not\", \"shan't've\": \"shall not have\",\n",
    "                           \"she'd\": \"she would\", \"she'd've\": \"she would have\", \"she'll\": \"she will\", \"she'll've\": \"she will have\", \"she's\": \"she is\",\n",
    "                           \"should've\": \"should have\", \"shouldn't\": \"should not\", \"shouldn't've\": \"should not have\", \"so've\": \"so have\",\"so's\": \"so as\",\n",
    "                           \"this's\": \"this is\",\"that'd\": \"that would\", \"that'd've\": \"that would have\", \"that's\": \"that is\", \"there'd\": \"there would\",\n",
    "                           \"there'd've\": \"there would have\", \"there's\": \"there is\", \"here's\": \"here is\",\"they'd\": \"they would\", \"they'd've\": \"they would have\",\n",
    "                           \"they'll\": \"they will\", \"they'll've\": \"they will have\", \"they're\": \"they are\", \"they've\": \"they have\", \"to've\": \"to have\",\n",
    "                           \"wasn't\": \"was not\", \"we'd\": \"we would\", \"we'd've\": \"we would have\", \"we'll\": \"we will\", \"we'll've\": \"we will have\", \"we're\": \"we are\",\n",
    "                           \"we've\": \"we have\", \"weren't\": \"were not\", \"what'll\": \"what will\", \"what'll've\": \"what will have\", \"what're\": \"what are\",\n",
    "                           \"what's\": \"what is\", \"what've\": \"what have\", \"when's\": \"when is\", \"when've\": \"when have\", \"where'd\": \"where did\", \"where's\": \"where is\",\n",
    "                           \"where've\": \"where have\", \"who'll\": \"who will\", \"who'll've\": \"who will have\", \"who's\": \"who is\", \"who've\": \"who have\",\n",
    "                           \"why's\": \"why is\", \"why've\": \"why have\", \"will've\": \"will have\", \"won't\": \"will not\", \"won't've\": \"will not have\",\n",
    "                           \"would've\": \"would have\", \"wouldn't\": \"would not\", \"wouldn't've\": \"would not have\", \"y'all\": \"you all\",\n",
    "                           \"y'all'd\": \"you all would\",\"y'all'd've\": \"you all would have\",\"y'all're\": \"you all are\",\"y'all've\": \"you all have\",\n",
    "                           \"you'd\": \"you would\", \"you'd've\": \"you would have\", \"you'll\": \"you will\", \"you'll've\": \"you will have\",\n",
    "                           \"you're\": \"you are\", \"you've\": \"you have\"}\n",
    "\n",
    "def cleanup_sentences(text):\n",
    "    text = text.lower()\n",
    "    #Remove HTML tags\n",
    "    text = BeautifulSoup(text,  \"html.parser\").text\n",
    "    # Removing text between () and []\n",
    "    text = re.sub(\"[\\(\\[].*?[\\)\\]]\", \"\", text)\n",
    "    #Replacing shortened version of words (for e.g. i'll is replaced with i will and so on)\n",
    "    text = ' '.join(contraction_mapping[w] if w in list(contraction_mapping.keys()) else w for w in text.split())\n",
    "    tokens = nlkt_word_tokenize(text)\n",
    "    #Remove Punctuation\n",
    "    tokens = [w for w in tokens if w not in string.punctuation]\n",
    "    #Remove Stop Words\n",
    "    tokens = [w for w in tokens if not w in stop_words]\n",
    "    sentences_cleaned = \" \".join(tokens)\n",
    "    #Lemmitization: return the base or dictionary form of a word\n",
    "    return ' '.join([lemmatizer.lemmatize(w,'v') for w in w_tokenizer.tokenize(sentences_cleaned)])\n",
    "    "
   ]
  },
  {
   "cell_type": "code",
   "execution_count": 24,
   "id": "d3bd0dab",
   "metadata": {},
   "outputs": [
    {
     "data": {
      "text/html": [
       "<div>\n",
       "<style scoped>\n",
       "    .dataframe tbody tr th:only-of-type {\n",
       "        vertical-align: middle;\n",
       "    }\n",
       "\n",
       "    .dataframe tbody tr th {\n",
       "        vertical-align: top;\n",
       "    }\n",
       "\n",
       "    .dataframe thead th {\n",
       "        text-align: right;\n",
       "    }\n",
       "</style>\n",
       "<table border=\"1\" class=\"dataframe\">\n",
       "  <thead>\n",
       "    <tr style=\"text-align: right;\">\n",
       "      <th></th>\n",
       "      <th>reviewText</th>\n",
       "      <th>summary</th>\n",
       "    </tr>\n",
       "  </thead>\n",
       "  <tbody>\n",
       "    <tr>\n",
       "      <th>0</th>\n",
       "      <td>use knk zing cut machine like consumer-level c...</td>\n",
       "      <td>elctronic cutter warn chipbord 0.05 '' thick 0...</td>\n",
       "    </tr>\n",
       "    <tr>\n",
       "      <th>1</th>\n",
       "      <td>right 11.88 amazon prime great price two premi...</td>\n",
       "      <td>great price superior product use pazzles inspi...</td>\n",
       "    </tr>\n",
       "    <tr>\n",
       "      <th>2</th>\n",
       "      <td>lot art range sculpture paint draw stranger ai...</td>\n",
       "      <td>deluxe kit tank compressor offer lot accessori...</td>\n",
       "    </tr>\n",
       "    <tr>\n",
       "      <th>3</th>\n",
       "      <td>amendment 08/22/2013 paint really like brush ....</td>\n",
       "      <td>love da vinci cosmotop mix b watercolour mix b...</td>\n",
       "    </tr>\n",
       "    <tr>\n",
       "      <th>4</th>\n",
       "      <td>get specific reason pressure spinal cord deal ...</td>\n",
       "      <td>work exactly describe super-simple small sew m...</td>\n",
       "    </tr>\n",
       "  </tbody>\n",
       "</table>\n",
       "</div>"
      ],
      "text/plain": [
       "                                          reviewText  \\\n",
       "0  use knk zing cut machine like consumer-level c...   \n",
       "1  right 11.88 amazon prime great price two premi...   \n",
       "2  lot art range sculpture paint draw stranger ai...   \n",
       "3  amendment 08/22/2013 paint really like brush ....   \n",
       "4  get specific reason pressure spinal cord deal ...   \n",
       "\n",
       "                                             summary  \n",
       "0  elctronic cutter warn chipbord 0.05 '' thick 0...  \n",
       "1  great price superior product use pazzles inspi...  \n",
       "2  deluxe kit tank compressor offer lot accessori...  \n",
       "3  love da vinci cosmotop mix b watercolour mix b...  \n",
       "4  work exactly describe super-simple small sew m...  "
      ]
     },
     "execution_count": 24,
     "metadata": {},
     "output_type": "execute_result"
    }
   ],
   "source": [
    "df_clean=pd.DataFrame()\n",
    "df_clean['reviewText']= df['reviewText'].apply(lambda x:cleanup_sentences(x))\n",
    "df_clean['summary']= df['summary'].apply(lambda x:cleanup_sentences(x))\n",
    "df_clean.head()"
   ]
  },
  {
   "cell_type": "code",
   "execution_count": 29,
   "id": "330e6258",
   "metadata": {},
   "outputs": [],
   "source": [
    "#Save pre-processed data\n",
    "df_clean.to_csv('data/amazon_review_dataset_processed.csv') "
   ]
  },
  {
   "cell_type": "code",
   "execution_count": 55,
   "id": "bab45816",
   "metadata": {},
   "outputs": [
    {
     "data": {
      "text/html": [
       "<div>\n",
       "<style scoped>\n",
       "    .dataframe tbody tr th:only-of-type {\n",
       "        vertical-align: middle;\n",
       "    }\n",
       "\n",
       "    .dataframe tbody tr th {\n",
       "        vertical-align: top;\n",
       "    }\n",
       "\n",
       "    .dataframe thead th {\n",
       "        text-align: right;\n",
       "    }\n",
       "</style>\n",
       "<table border=\"1\" class=\"dataframe\">\n",
       "  <thead>\n",
       "    <tr style=\"text-align: right;\">\n",
       "      <th></th>\n",
       "      <th>Unnamed: 0</th>\n",
       "      <th>reviewText</th>\n",
       "      <th>summary</th>\n",
       "    </tr>\n",
       "  </thead>\n",
       "  <tbody>\n",
       "    <tr>\n",
       "      <th>0</th>\n",
       "      <td>0</td>\n",
       "      <td>use knk zing cut machine like consumer-level c...</td>\n",
       "      <td>elctronic cutter warn chipbord 0.05 '' thick 0...</td>\n",
       "    </tr>\n",
       "    <tr>\n",
       "      <th>1</th>\n",
       "      <td>1</td>\n",
       "      <td>right 11.88 amazon prime great price two premi...</td>\n",
       "      <td>great price superior product use pazzles inspi...</td>\n",
       "    </tr>\n",
       "    <tr>\n",
       "      <th>2</th>\n",
       "      <td>2</td>\n",
       "      <td>lot art range sculpture paint draw stranger ai...</td>\n",
       "      <td>deluxe kit tank compressor offer lot accessori...</td>\n",
       "    </tr>\n",
       "    <tr>\n",
       "      <th>3</th>\n",
       "      <td>3</td>\n",
       "      <td>amendment 08/22/2013 paint really like brush ....</td>\n",
       "      <td>love da vinci cosmotop mix b watercolour mix b...</td>\n",
       "    </tr>\n",
       "    <tr>\n",
       "      <th>4</th>\n",
       "      <td>4</td>\n",
       "      <td>get specific reason pressure spinal cord deal ...</td>\n",
       "      <td>work exactly describe super-simple small sew m...</td>\n",
       "    </tr>\n",
       "  </tbody>\n",
       "</table>\n",
       "</div>"
      ],
      "text/plain": [
       "   Unnamed: 0                                         reviewText  \\\n",
       "0           0  use knk zing cut machine like consumer-level c...   \n",
       "1           1  right 11.88 amazon prime great price two premi...   \n",
       "2           2  lot art range sculpture paint draw stranger ai...   \n",
       "3           3  amendment 08/22/2013 paint really like brush ....   \n",
       "4           4  get specific reason pressure spinal cord deal ...   \n",
       "\n",
       "                                             summary  \n",
       "0  elctronic cutter warn chipbord 0.05 '' thick 0...  \n",
       "1  great price superior product use pazzles inspi...  \n",
       "2  deluxe kit tank compressor offer lot accessori...  \n",
       "3  love da vinci cosmotop mix b watercolour mix b...  \n",
       "4  work exactly describe super-simple small sew m...  "
      ]
     },
     "execution_count": 55,
     "metadata": {},
     "output_type": "execute_result"
    }
   ],
   "source": [
    "import pandas as pd\n",
    "import json\n",
    "df_clean= pd.read_csv('data/amazon_review_dataset_processed.csv')\n",
    "df_clean.head()"
   ]
  },
  {
   "cell_type": "markdown",
   "id": "3518967c",
   "metadata": {},
   "source": [
    "## Token Distribution"
   ]
  },
  {
   "cell_type": "code",
   "execution_count": 60,
   "id": "da62fb97",
   "metadata": {},
   "outputs": [],
   "source": [
    "import matplotlib.pyplot as plt\n",
    "\n",
    "rev_token_count = []\n",
    "summary_token_count = []\n",
    "\n",
    "for i in df_clean['reviewText']:\n",
    "      rev_token_count.append(len(nlkt_word_tokenize(i)))\n",
    "\n",
    "for i in df_clean['summary']:\n",
    "      summary_token_count.append(len(nlkt_word_tokenize(i)))"
   ]
  },
  {
   "cell_type": "code",
   "execution_count": 69,
   "id": "47f2cd61",
   "metadata": {},
   "outputs": [
    {
     "data": {
      "image/png": "[encoded data removed]",
      "text/plain": [
       "<Figure size 432x288 with 1 Axes>"
      ]
     },
     "metadata": {
      "needs_background": "light"
     },
     "output_type": "display_data"
    }
   ],
   "source": [
    "\n",
    "rev_df = pd.DataFrame({'text':rev_token_count})\n",
    "rev_df.hist(bins = 30)\n",
    "plt.xlim(0, 500)\n",
    "plt.xlabel('# Tokens')\n",
    "plt.ylabel('# Reviews')\n",
    "plt.show()\n",
    "# max length reviews = 300 tokens"
   ]
  },
  {
   "cell_type": "code",
   "execution_count": 67,
   "id": "85b39661",
   "metadata": {},
   "outputs": [
    {
     "data": {
      "image/png": "[encoded data removed]",
      "text/plain": [
       "<Figure size 432x288 with 1 Axes>"
      ]
     },
     "metadata": {
      "needs_background": "light"
     },
     "output_type": "display_data"
    }
   ],
   "source": [
    "# max length reviews = 12 tokens\n",
    "summary_df =  pd.DataFrame({'summary':summary_token_count})\n",
    "summary_df.hist(bins = 30)\n",
    "plt.xlim(0, 14)\n",
    "plt.xlabel('# Tokens')\n",
    "plt.ylabel('# Summaries')\n",
    "plt.show()"
   ]
  }
 ],
 "metadata": {
  "kernelspec": {
   "display_name": "Python 3 (ipykernel)",
   "language": "python",
   "name": "python3"
  },
  "language_info": {
   "codemirror_mode": {
    "name": "ipython",
    "version": 3
   },
   "file_extension": ".py",
   "mimetype": "text/x-python",
   "name": "python",
   "nbconvert_exporter": "python",
   "pygments_lexer": "ipython3",
   "version": "3.8.12"
  }
 },
 "nbformat": 4,
 "nbformat_minor": 5
}
