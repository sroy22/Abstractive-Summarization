{
  "nbformat": 4,
  "nbformat_minor": 0,
  "metadata": {
    "colab": {
      "name": "Zero-shot_T5.ipynb",
      "provenance": [],
      "collapsed_sections": [],
      "machine_shape": "hm"
    },
    "kernelspec": {
      "name": "python3",
      "display_name": "Python 3"
    },
    "language_info": {
      "name": "python"
    },
    "accelerator": "GPU"
  },
  "cells": [
    {
      "cell_type": "code",
      "execution_count": 9,
      "metadata": {
        "id": "-BUJxMdolmj8"
      },
      "outputs": [],
      "source": [
        "%%capture\n",
        "!pip install --upgrade transformers\n",
        "!pip install datasets\n",
        "!pip install rouge_score\n",
        "!pip install rouge"
      ]
    },
    {
      "cell_type": "code",
      "source": [
        "import transformers\n",
        "from transformers import AutoModelForSeq2SeqLM, AutoTokenizer, Seq2SeqTrainingArguments, Seq2SeqTrainer, DataCollatorForSeq2Seq, pipeline\n",
        "from datasets import load_dataset, load_metric, Dataset\n",
        "import torch\n",
        "import numpy as np\n",
        "import pandas as pd\n",
        "import io\n",
        "import math\n",
        "import time"
      ],
      "metadata": {
        "id": "Gl8IXlPvlqqa"
      },
      "execution_count": 10,
      "outputs": []
    },
    {
      "cell_type": "code",
      "source": [
        "from google.colab import drive\n",
        "\n",
        "drive.mount('/content/drive')\n",
        "\n",
        "path = \"/content/drive/MyDrive/Colab Notebooks/CSC413/amazon_review_dataset_processed.csv\"\n",
        "df = pd.read_csv(path)\n",
        "amazon = Dataset.from_pandas(df)\n",
        "amazon.shape"
      ],
      "metadata": {
        "colab": {
          "base_uri": "https://localhost:8080/"
        },
        "id": "QX2etMGvltLp",
        "outputId": "865a8663-f47d-41ad-f50d-d2c4e613fc9a"
      },
      "execution_count": 11,
      "outputs": [
        {
          "output_type": "stream",
          "name": "stdout",
          "text": [
            "Drive already mounted at /content/drive; to attempt to forcibly remount, call drive.mount(\"/content/drive\", force_remount=True).\n"
          ]
        },
        {
          "output_type": "execute_result",
          "data": {
            "text/plain": [
              "(11848, 3)"
            ]
          },
          "metadata": {},
          "execution_count": 11
        }
      ]
    },
    {
      "cell_type": "code",
      "source": [
        "NotTest_Test = amazon.train_test_split(test_size=0.1,seed=42)\n",
        "NotTest = NotTest_Test[\"train\"]\n",
        "test = NotTest_Test[\"test\"]\n",
        "\n",
        "Train_Val = NotTest.train_test_split(test_size=0.1, seed=42)\n",
        "train = Train_Val[\"train\"]\n",
        "val = Train_Val[\"test\"]"
      ],
      "metadata": {
        "id": "WqP5ocGhk9us"
      },
      "execution_count": 12,
      "outputs": []
    },
    {
      "cell_type": "code",
      "source": [
        "generator = pipeline(task=\"summarization\", model=\"flax-community/t5-base-cnn-dm\")"
      ],
      "metadata": {
        "id": "Hg9QZtzulwso"
      },
      "execution_count": 13,
      "outputs": []
    },
    {
      "cell_type": "code",
      "source": [
        "reviews = test['reviewText']\n",
        "summaries = test['summary']\n",
        "\n",
        "output_batch_size=200\n",
        "max_summary_length = 25\n",
        "min_summary_length=2\n",
        "\n",
        "outputs= generator(reviews[:output_batch_size], max_length=max_summary_length, min_length=min_summary_length, num_beams=2)\n",
        "generated_summaries = [outputs[i]['summary_text'] for i in range(len(outputs))]"
      ],
      "metadata": {
        "colab": {
          "base_uri": "https://localhost:8080/"
        },
        "id": "wOkIONvVm5DY",
        "outputId": "79e690e7-8277-490b-b47a-af23c34a20f6"
      },
      "execution_count": 14,
      "outputs": [
        {
          "output_type": "stream",
          "name": "stderr",
          "text": [
            "Token indices sequence length is longer than the specified maximum sequence length for this model (1991 > 512). Running this sequence through the model will result in indexing errors\n"
          ]
        }
      ]
    },
    {
      "cell_type": "code",
      "source": [
        "df_result = pd.DataFrame({'review':reviews[:200],'generated_summaries':generated_summaries,'target_summaries':summaries[:200]})\n",
        "df_result.to_csv('/content/drive/MyDrive/Colab Notebooks/CSC413/zero_shot_t5.csv') "
      ],
      "metadata": {
        "id": "hxZvhySGpJkW"
      },
      "execution_count": 15,
      "outputs": []
    },
    {
      "cell_type": "code",
      "source": [
        "metric = load_metric('rouge')\n",
        "\n",
        "def calc_rouge_scores(candidates, references):\n",
        "    result = metric.compute(predictions=candidates, references=references, use_stemmer=True)\n",
        "    result = {key: round(value.mid.fmeasure * 100, 1) for key, value in result.items()}\n",
        "    return result\n",
        "\n",
        "calc_rouge_scores(generated_summaries, summaries[:output_batch_size])"
      ],
      "metadata": {
        "colab": {
          "base_uri": "https://localhost:8080/"
        },
        "id": "SbeyFP_WpYMp",
        "outputId": "f8f066c3-5080-42be-a32f-2325e830d3e9"
      },
      "execution_count": 16,
      "outputs": [
        {
          "output_type": "execute_result",
          "data": {
            "text/plain": [
              "{'rouge1': 7.6, 'rouge2': 2.2, 'rougeL': 6.8, 'rougeLsum': 6.8}"
            ]
          },
          "metadata": {},
          "execution_count": 16
        }
      ]
    },
    {
      "cell_type": "code",
      "source": [
        ""
      ],
      "metadata": {
        "id": "GHYnEQtlqs9C"
      },
      "execution_count": 16,
      "outputs": []
    }
  ]
}